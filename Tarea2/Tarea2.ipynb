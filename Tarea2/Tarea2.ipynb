{
 "cells": [
  {
   "cell_type": "markdown",
   "metadata": {},
   "source": [
    "# Tarea 2: Paradojas de simulaciones de discos duros en una caja"
   ]
  },
  {
   "cell_type": "markdown",
   "metadata": {},
   "source": [
    "Nombre: Santiago Víquez Segura\n",
    "\n",
    "Carné: B17298"
   ]
  },
  {
   "cell_type": "markdown",
   "metadata": {},
   "source": [
    "# Seccion A1"
   ]
  },
  {
   "cell_type": "code",
   "execution_count": 5,
   "metadata": {},
   "outputs": [
    {
     "name": "stdout",
     "output_type": "stream",
     "text": [
      "(((0.3, 0.3), (0.3, 0.7), (0.7, 0.3), (0.7, 0.7)), 17)\n",
      "(((0.2, 0.2), (0.2, 0.8), (0.75, 0.25), (0.75, 0.75)), 13)\n",
      "(((0.3, 0.2), (0.3, 0.8), (0.7, 0.2), (0.7, 0.7)), 9)\n"
     ]
    }
   ],
   "source": [
    "import random, math\n",
    "def direct_disks_box(N, sigma):\n",
    "    condition = False\n",
    "    while condition == False:\n",
    "        L = [(random.uniform(sigma, 1.0 - sigma), random.uniform(sigma, 1.0 - sigma))]\n",
    "        for k in range(1, N):\n",
    "            a = (random.uniform(sigma, 1.0 - sigma), random.uniform(sigma, 1.0 - sigma))\n",
    "            min_dist = min(math.sqrt((a[0] - b[0]) ** 2 + (a[1] - b[1]) ** 2) for b in L) \n",
    "            if min_dist < 2.0 * sigma: \n",
    "                condition = False\n",
    "                break\n",
    "            else:\n",
    "                L.append(a)\n",
    "                condition = True\n",
    "    return L\n",
    "\n",
    "sigma = 0.15\n",
    "del_xy = 0.05\n",
    "n_runs = 1000\n",
    "conf_a = ((0.30, 0.30), (0.30, 0.70), (0.70, 0.30), (0.70, 0.70))\n",
    "conf_b = ((0.20, 0.20), (0.20, 0.80), (0.75, 0.25), (0.75, 0.75))\n",
    "conf_c = ((0.30, 0.20), (0.30, 0.80), (0.70, 0.20), (0.70, 0.70))\n",
    "configurations = [conf_a, conf_b, conf_c]\n",
    "hits = {conf_a: 0, conf_b: 0, conf_c: 0}\n",
    "for run in range(n_runs):\n",
    "\tx_vec = direct_disks_box(4, sigma)\n",
    "\tfor conf in configurations:\n",
    "\t\tcondition_hit = True\n",
    "\t\tfor b in conf:\n",
    "\t\t\tcondition_b = min(max(abs(a[0]-b[0]), abs(a[1]-b[1])) for a in x_vec) < del_xy\n",
    "\t\t\tcondition_hit *= condition_b\n",
    "\n",
    "\t\tif condition_hit:\n",
    "\t\t\thits[conf] += 1\n",
    "\n",
    "for conf in configurations:\n",
    "\tprint (conf, hits[conf])"
   ]
  },
  {
   "cell_type": "markdown",
   "metadata": {},
   "source": [
    "### A1 - Pregunta 1"
   ]
  },
  {
   "cell_type": "markdown",
   "metadata": {},
   "source": [
    "La variable condition_hit es True cuando la distancia minima entre el centro de cada disco es mayor a a su diametro, osea cuando los discos no se superponen."
   ]
  },
  {
   "cell_type": "markdown",
   "metadata": {},
   "source": [
    "### A1 - Pregunta 2"
   ]
  },
  {
   "cell_type": "code",
   "execution_count": 11,
   "metadata": {
    "collapsed": true
   },
   "outputs": [],
   "source": [
    "#sigma = 0.15\n",
    "#del_xy = 0.05"
   ]
  },
  {
   "cell_type": "code",
   "execution_count": null,
   "metadata": {
    "collapsed": true
   },
   "outputs": [],
   "source": [
    "#Para n_runs = 10^4\n",
    "\n",
    "#Primera Vez\n",
    "# (((0.3, 0.3), (0.3, 0.7), (0.7, 0.3), (0.7, 0.7)), 1)\n",
    "# (((0.2, 0.2), (0.2, 0.8), (0.75, 0.25), (0.75, 0.75)), 1)\n",
    "# (((0.3, 0.2), (0.3, 0.8), (0.7, 0.2), (0.7, 0.7)), 2)\n",
    "\n",
    "#Segunda Vez\n",
    "# (((0.3, 0.3), (0.3, 0.7), (0.7, 0.3), (0.7, 0.7)), 2)\n",
    "# (((0.2, 0.2), (0.2, 0.8), (0.75, 0.25), (0.75, 0.75)), 2)\n",
    "# (((0.3, 0.2), (0.3, 0.8), (0.7, 0.2), (0.7, 0.7)), 1)\n",
    "\n",
    "#Tercera Vez\n",
    "# (((0.3, 0.3), (0.3, 0.7), (0.7, 0.3), (0.7, 0.7)), 0)\n",
    "# (((0.2, 0.2), (0.2, 0.8), (0.75, 0.25), (0.75, 0.75)), 2)\n",
    "# (((0.3, 0.2), (0.3, 0.8), (0.7, 0.2), (0.7, 0.7)), 2)"
   ]
  },
  {
   "cell_type": "code",
   "execution_count": null,
   "metadata": {
    "collapsed": true
   },
   "outputs": [],
   "source": [
    "#Para n_runs = 10^5\n",
    "\n",
    "#Primera Vez\n",
    "# (((0.3, 0.3), (0.3, 0.7), (0.7, 0.3), (0.7, 0.7)), 16)\n",
    "# (((0.2, 0.2), (0.2, 0.8), (0.75, 0.25), (0.75, 0.75)), 10)\n",
    "# (((0.3, 0.2), (0.3, 0.8), (0.7, 0.2), (0.7, 0.7)), 14)\n",
    "\n",
    "#Segunda vez\n",
    "# (((0.3, 0.3), (0.3, 0.7), (0.7, 0.3), (0.7, 0.7)), 11)\n",
    "# (((0.2, 0.2), (0.2, 0.8), (0.75, 0.25), (0.75, 0.75)), 7)\n",
    "# (((0.3, 0.2), (0.3, 0.8), (0.7, 0.2), (0.7, 0.7)), 19)\n",
    "\n",
    "#Tercera Vez\n",
    "# (((0.3, 0.3), (0.3, 0.7), (0.7, 0.3), (0.7, 0.7)), 7)\n",
    "# (((0.2, 0.2), (0.2, 0.8), (0.75, 0.25), (0.75, 0.75)), 9)\n",
    "# (((0.3, 0.2), (0.3, 0.8), (0.7, 0.2), (0.7, 0.7)), 13)"
   ]
  },
  {
   "cell_type": "code",
   "execution_count": 12,
   "metadata": {
    "collapsed": true
   },
   "outputs": [],
   "source": [
    "#Para n_runs = 10^6\n",
    "\n",
    "#Primera vez\n",
    "# (((0.3, 0.3), (0.3, 0.7), (0.7, 0.3), (0.7, 0.7)), 106)\n",
    "# (((0.2, 0.2), (0.2, 0.8), (0.75, 0.25), (0.75, 0.75)), 133)\n",
    "# (((0.3, 0.2), (0.3, 0.8), (0.7, 0.2), (0.7, 0.7)), 118)\n",
    "\n",
    "#Segunda Vez\n",
    "# (((0.3, 0.3), (0.3, 0.7), (0.7, 0.3), (0.7, 0.7)), 112)\n",
    "# (((0.2, 0.2), (0.2, 0.8), (0.75, 0.25), (0.75, 0.75)), 109)\n",
    "# (((0.3, 0.2), (0.3, 0.8), (0.7, 0.2), (0.7, 0.7)), 99)\n",
    "\n",
    "#Tercera Vez\n",
    "# (((0.3, 0.3), (0.3, 0.7), (0.7, 0.3), (0.7, 0.7)), 113)\n",
    "# (((0.2, 0.2), (0.2, 0.8), (0.75, 0.25), (0.75, 0.75)), 97)\n",
    "# (((0.3, 0.2), (0.3, 0.8), (0.7, 0.2), (0.7, 0.7)), 122)"
   ]
  },
  {
   "cell_type": "markdown",
   "metadata": {},
   "source": [
    "Podemos observar que en todos los casos encontramos una equiprobabilidad (dentro de la precisión numérica) entre los tres diferentes arreglos.\n",
    "\n",
    "Además la probabilidad de que alguna de estas configuraciones salga es realmente baja. Por ejemplo:\n",
    "\n",
    "Para n_runs = 10^5\n",
    "conf_a = 106\n",
    "\n",
    "prob_a = 106/10^5 = 0.00106\n"
   ]
  },
  {
   "cell_type": "markdown",
   "metadata": {},
   "source": [
    "### A1 - Pregunta 3\n"
   ]
  },
  {
   "cell_type": "code",
   "execution_count": null,
   "metadata": {
    "collapsed": true
   },
   "outputs": [],
   "source": [
    "#sigma = 0.15\n",
    "#del_xy = 0.10"
   ]
  },
  {
   "cell_type": "code",
   "execution_count": 8,
   "metadata": {
    "collapsed": true
   },
   "outputs": [],
   "source": [
    "#Para n_runs = 10^4\n",
    "\n",
    "#Primera Vez\n",
    "# (((0.3, 0.3), (0.3, 0.7), (0.7, 0.3), (0.7, 0.7)), 218)\n",
    "# (((0.2, 0.2), (0.2, 0.8), (0.75, 0.25), (0.75, 0.75)), 107)\n",
    "# (((0.3, 0.2), (0.3, 0.8), (0.7, 0.2), (0.7, 0.7)), 93)\n",
    "\n",
    "#Segunda Vez\n",
    "# (((0.3, 0.3), (0.3, 0.7), (0.7, 0.3), (0.7, 0.7)), 201)\n",
    "# (((0.2, 0.2), (0.2, 0.8), (0.75, 0.25), (0.75, 0.75)), 89)\n",
    "# (((0.3, 0.2), (0.3, 0.8), (0.7, 0.2), (0.7, 0.7)), 86)\n",
    "\n",
    "#Tercera Vez\n",
    "# (((0.3, 0.3), (0.3, 0.7), (0.7, 0.3), (0.7, 0.7)), 190)\n",
    "# (((0.2, 0.2), (0.2, 0.8), (0.75, 0.25), (0.75, 0.75)), 83)\n",
    "# (((0.3, 0.2), (0.3, 0.8), (0.7, 0.2), (0.7, 0.7)), 97)"
   ]
  },
  {
   "cell_type": "code",
   "execution_count": 9,
   "metadata": {
    "collapsed": true
   },
   "outputs": [],
   "source": [
    "#Para n_runs = 10^5\n",
    "\n",
    "#Primera Vez\n",
    "# (((0.3, 0.3), (0.3, 0.7), (0.7, 0.3), (0.7, 0.7)), 1908)\n",
    "# (((0.2, 0.2), (0.2, 0.8), (0.75, 0.25), (0.75, 0.75)), 942)\n",
    "# (((0.3, 0.2), (0.3, 0.8), (0.7, 0.2), (0.7, 0.7)), 998)\n",
    "\n",
    "#Segunda Vez\n",
    "# (((0.3, 0.3), (0.3, 0.7), (0.7, 0.3), (0.7, 0.7)), 1939)\n",
    "# (((0.2, 0.2), (0.2, 0.8), (0.75, 0.25), (0.75, 0.75)), 952)\n",
    "# (((0.3, 0.2), (0.3, 0.8), (0.7, 0.2), (0.7, 0.7)), 988)\n",
    "\n",
    "#Tercera Vez\n",
    "# (((0.3, 0.3), (0.3, 0.7), (0.7, 0.3), (0.7, 0.7)), 1885)\n",
    "# (((0.2, 0.2), (0.2, 0.8), (0.75, 0.25), (0.75, 0.75)), 907)\n",
    "# (((0.3, 0.2), (0.3, 0.8), (0.7, 0.2), (0.7, 0.7)), 981)"
   ]
  },
  {
   "cell_type": "code",
   "execution_count": null,
   "metadata": {
    "collapsed": true
   },
   "outputs": [],
   "source": [
    "#Para n_runs = 10^6\n",
    "\n",
    "#Primera Vez\n",
    "# (((0.3, 0.3), (0.3, 0.7), (0.7, 0.3), (0.7, 0.7)), 19088)\n",
    "# (((0.2, 0.2), (0.2, 0.8), (0.75, 0.25), (0.75, 0.75)), 9187)\n",
    "# (((0.3, 0.2), (0.3, 0.8), (0.7, 0.2), (0.7, 0.7)), 10052)\n",
    "\n",
    "#Segunda Vez\n",
    "# (((0.3, 0.3), (0.3, 0.7), (0.7, 0.3), (0.7, 0.7)), 18942)\n",
    "# (((0.2, 0.2), (0.2, 0.8), (0.75, 0.25), (0.75, 0.75)), 9161)\n",
    "# (((0.3, 0.2), (0.3, 0.8), (0.7, 0.2), (0.7, 0.7)), 9897)\n",
    "\n",
    "#Tercera Vez\n",
    "# (((0.3, 0.3), (0.3, 0.7), (0.7, 0.3), (0.7, 0.7)), 18910)\n",
    "# (((0.2, 0.2), (0.2, 0.8), (0.75, 0.25), (0.75, 0.75)), 9203)\n",
    "# (((0.3, 0.2), (0.3, 0.8), (0.7, 0.2), (0.7, 0.7)), 9960)"
   ]
  },
  {
   "cell_type": "markdown",
   "metadata": {},
   "source": [
    "En este caso paraeciera que no encontramos una equiprobabilidad entre arreglos, de hecho podemos observar que en cada una de las corridas la conf_a es la más probable. Si observamos más detalladamente la tendencia de los relsultados vemos que se puede afirmar que los hits en conf_a es el doble de los hits de conf_b y conf_c.\n",
    "\n",
    "Sin embargo, aunque la cantidad de hits en general haya aumentado gracias a hacer mas facil caer cada configuracion (por haber incrementado delt_xy), sigue siendo muy baja con respecto a la cantidad de n_runs. Por ejemplo:\n",
    "\n",
    "\n",
    "Para n_runs = 10^6\n",
    "conf_a = 19088 -> prob_a = 19088/10^6 = 0.01891\n",
    "\n",
    "Entonces en efecto encontramos una equiprobabilidad entre configuraciones, realmente cercana a 0."
   ]
  },
  {
   "cell_type": "markdown",
   "metadata": {},
   "source": [
    "### A1 - Pregunta 4"
   ]
  },
  {
   "cell_type": "markdown",
   "metadata": {},
   "source": [
    "Genera todas las configuraciones legales e ilegales y luego desecha las ilegales."
   ]
  },
  {
   "cell_type": "markdown",
   "metadata": {},
   "source": [
    "# Seccion A2"
   ]
  },
  {
   "cell_type": "code",
   "execution_count": null,
   "metadata": {
    "collapsed": true
   },
   "outputs": [],
   "source": [
    "import random\n",
    "def markov_disks_box(N, sigma):\n",
    "\tL = [[0.25, 0.25], [0.75, 0.25], [0.25, 0.75], [0.75, 0.75]]\n",
    "\tsigma_sq = sigma ** 2\n",
    "\tdelta = 0.1\n",
    "\tn_steps = 1000\n",
    "\tfor steps in range(n_steps):\n",
    "\t    a = random.choice(L)\n",
    "\t    b = [a[0] + random.uniform(-delta, delta), a[1] + random.uniform(-delta, delta)]\n",
    "\t    min_dist = min((b[0] - c[0]) ** 2 + (b[1] - c[1]) ** 2 for c in L if c != a)\n",
    "\t    box_cond = min(b[0], b[1]) < sigma or max(b[0], b[1]) > 1.0 - sigma\n",
    "\t    if not (box_cond or min_dist < 4.0 * sigma ** 2):\n",
    "\t        a[:] = b\n",
    "\treturn L\n",
    "\n",
    "N = 4\n",
    "sigma = 0.15\n",
    "del_xy = 0.05\n",
    "n_runs = 10000\n",
    "conf_a = ((0.30, 0.30), (0.30, 0.70), (0.70, 0.30), (0.70, 0.70))\n",
    "conf_b = ((0.20, 0.20), (0.20, 0.80), (0.75, 0.25), (0.75, 0.75))\n",
    "conf_c = ((0.30, 0.20), (0.30, 0.80), (0.70, 0.20), (0.70, 0.70))\n",
    "configurations = [conf_a, conf_b, conf_c]\n",
    "hits = {conf_a: 0, conf_b: 0, conf_c: 0}\n",
    "for run in range(n_runs):\n",
    "\tx_vec = markov_disks_box(N, sigma)\n",
    "\tfor conf in configurations:\n",
    "\t\tcondition_hit = True\n",
    "\t\tfor c in conf:\n",
    "\t\t\tcondition_c = min(max(abs(a[0]-c[0]), abs(a[1]-c[1])) for a in x_vec) < del_xy\n",
    "\t\t\tcondition_hit *= condition_c\n",
    "\n",
    "\t\tif condition_hit:\n",
    "\t\t\thits[conf] += 1\n",
    "\n",
    "for conf in configurations:\n",
    "\tprint(conf, hits[conf])"
   ]
  },
  {
   "cell_type": "code",
   "execution_count": 11,
   "metadata": {
    "collapsed": true
   },
   "outputs": [],
   "source": [
    "# Para n_runs = 10^4\n",
    "\n",
    "# Primera Vez\n",
    "# (((0.3, 0.3), (0.3, 0.7), (0.7, 0.3), (0.7, 0.7)), 1)\n",
    "# (((0.2, 0.2), (0.2, 0.8), (0.75, 0.25), (0.75, 0.75)), 1)\n",
    "# (((0.3, 0.2), (0.3, 0.8), (0.7, 0.2), (0.7, 0.7)), 1)\n",
    "\n",
    "# Segunda Vez\n",
    "# (((0.3, 0.3), (0.3, 0.7), (0.7, 0.3), (0.7, 0.7)), 2)\n",
    "# (((0.2, 0.2), (0.2, 0.8), (0.75, 0.25), (0.75, 0.75)), 1)\n",
    "# (((0.3, 0.2), (0.3, 0.8), (0.7, 0.2), (0.7, 0.7)), 1)\n",
    "\n",
    "# Tercera Vez\n",
    "# (((0.3, 0.3), (0.3, 0.7), (0.7, 0.3), (0.7, 0.7)), 1)\n",
    "# (((0.2, 0.2), (0.2, 0.8), (0.75, 0.25), (0.75, 0.75)), 3)\n",
    "# (((0.3, 0.2), (0.3, 0.8), (0.7, 0.2), (0.7, 0.7)), 0)"
   ]
  },
  {
   "cell_type": "code",
   "execution_count": null,
   "metadata": {
    "collapsed": true
   },
   "outputs": [],
   "source": [
    "# Para n_runs = 10^5\n",
    "\n",
    "# Primera Vez\n",
    "# (((0.3, 0.3), (0.3, 0.7), (0.7, 0.3), (0.7, 0.7)), 12)\n",
    "# (((0.2, 0.2), (0.2, 0.8), (0.75, 0.25), (0.75, 0.75)), 20)\n",
    "# (((0.3, 0.2), (0.3, 0.8), (0.7, 0.2), (0.7, 0.7)), 14)\n",
    "\n",
    "# Segunda Vez\n",
    "# (((0.3, 0.3), (0.3, 0.7), (0.7, 0.3), (0.7, 0.7)), 5)\n",
    "# (((0.2, 0.2), (0.2, 0.8), (0.75, 0.25), (0.75, 0.75)), 11)\n",
    "# (((0.3, 0.2), (0.3, 0.8), (0.7, 0.2), (0.7, 0.7)), 16)\n",
    "\n",
    "# Tercera Vez\n",
    "# (((0.3, 0.3), (0.3, 0.7), (0.7, 0.3), (0.7, 0.7)), 12)\n",
    "# (((0.2, 0.2), (0.2, 0.8), (0.75, 0.25), (0.75, 0.75)), 9)\n",
    "# (((0.3, 0.2), (0.3, 0.8), (0.7, 0.2), (0.7, 0.7)), 16)"
   ]
  },
  {
   "cell_type": "code",
   "execution_count": null,
   "metadata": {
    "collapsed": true
   },
   "outputs": [],
   "source": [
    "# Para n_runs = 10^6\n",
    "\n",
    "# Primera Vez\n",
    "# (((0.3, 0.3), (0.3, 0.7), (0.7, 0.3), (0.7, 0.7)), 122)\n",
    "# (((0.2, 0.2), (0.2, 0.8), (0.75, 0.25), (0.75, 0.75)), 98)\n",
    "# (((0.3, 0.2), (0.3, 0.8), (0.7, 0.2), (0.7, 0.7)), 112)\n",
    "\n",
    "# Segunda Vez\n",
    "# (((0.3, 0.3), (0.3, 0.7), (0.7, 0.3), (0.7, 0.7)), 111)\n",
    "# (((0.2, 0.2), (0.2, 0.8), (0.75, 0.25), (0.75, 0.75)), 125)\n",
    "# (((0.3, 0.2), (0.3, 0.8), (0.7, 0.2), (0.7, 0.7)), 114)\n",
    "\n",
    "# Tercera Vez\n",
    "# (((0.3, 0.3), (0.3, 0.7), (0.7, 0.3), (0.7, 0.7)), 111)\n",
    "# (((0.2, 0.2), (0.2, 0.8), (0.75, 0.25), (0.75, 0.75)), 120)\n",
    "# (((0.3, 0.2), (0.3, 0.8), (0.7, 0.2), (0.7, 0.7)), 118)"
   ]
  },
  {
   "cell_type": "markdown",
   "metadata": {},
   "source": [
    "Sin duda hay una gran diferencia entre el muestre los resultados del muestreo directo y el muestreo de cadenas de Markov, especialmente en la cantidad de hits, para cada una de las configuraciones. Los números son bastante más bajos que con el muestreo directo, lo cual es bueno, porque en efecto observamos equiprobabilidad de las  configuraciones de los discos duros."
   ]
  },
  {
   "cell_type": "markdown",
   "metadata": {},
   "source": [
    "# A3"
   ]
  },
  {
   "cell_type": "markdown",
   "metadata": {},
   "source": [
    "### A3 - Pregunta 1"
   ]
  },
  {
   "cell_type": "markdown",
   "metadata": {
    "collapsed": true
   },
   "source": [
    "En el caso de la sección A1 estabamos trabajando en un tiempo constante, podemos decir cuando el tiempo tiende a infinito y es por eso que encontramos la equiprobabilidad, en el caso actual no deberiamos de encontrar muestra de igual probabibilidad porque el tiempo va variando entre cada muestreo."
   ]
  },
  {
   "cell_type": "markdown",
   "metadata": {},
   "source": [
    "### A3 - Pregunta 2"
   ]
  },
  {
   "cell_type": "code",
   "execution_count": null,
   "metadata": {
    "collapsed": true
   },
   "outputs": [],
   "source": [
    "import math,pylab\n",
    "\n",
    "def walltime(posa,vela,sigma):\n",
    "    if vela > 0.0:\n",
    "        delt = (1.0 - sigma - posa)/vela\n",
    "    elif vela < 0.0:\n",
    "        delt = (posa-sigma)/abs(vela)\n",
    "    else:\n",
    "        delt = float(\"inf\")\n",
    "    return delt\n",
    "\n",
    "def pairtime(posa,vela,posb,velb,sigma):\n",
    "    delx = [posb[0]-posa[0],posb[1]-posa[1]]\n",
    "    delxsq = delx[0]**2+delx[1]**2\n",
    "    delv = [velb[0]-vela[0],velb[1]-vela[1]]\n",
    "    delvsq = delv[0]**2+delv[1]**2\n",
    "    scal = delv[0]*delx[0]+delv[1]*delx[1]\n",
    "    Upsilon = scal**2-delvsq*(delxsq-4.0*sigma**2)\n",
    "    if Upsilon > 0.0 and scal < 0.0:\n",
    "        delt = -(scal+math.sqrt(Upsilon))/delvsq\n",
    "    else:\n",
    "        delt = float(\"inf\")\n",
    "    return delt\n",
    "\n",
    "confa = ((0.30,0.30),(0.30,0.70),(0.70,0.30),(0.70,0.70))\n",
    "confb = ((0.20,0.20),(0.20,0.80),(0.75,0.25),(0.75,0.75))\n",
    "confc = ((0.30,0.20),(0.30,0.80),(0.70,0.20),(0.70,0.70))\n",
    "configurations = [confa,confb,confc]\n",
    "hits = {confa:0,confb:0,confc:0}\n",
    "delxy = 0.10\n",
    "pos = [[0.25,0.25],[0.75,0.25],[0.25,0.75],[0.75,0.75]]\n",
    "vel = [[0.21,0.12],[0.71,0.18],[-0.23,-0.79],[0.78,0.1177]]\n",
    "singles = [(0,0),(0,1),(1,0),(1,1),(2,0),(2,1),(3,0),(3,1)]\n",
    "pairs = [(0,1),(0,2),(0,3),(1,2),(1,3),(2,3)]\n",
    "sigma = 0.10\n",
    "t = 0.0\n",
    "nevents = 5000000\n",
    "\n",
    "for event in range(nevents):\n",
    "    # if event%100000 == 0:\n",
    "        # print event\n",
    "    walltimes=[walltime(pos[k][l],vel[k][l],sigma) for k,l in singles]\n",
    "    pairtimes=[pairtime(pos[k],vel[k],pos[l],vel[l],sigma)for k,l in pairs]\n",
    "    nextevent=min(walltimes+pairtimes)\n",
    "    tprevious=t\n",
    "    for intertimes in range(int(t+1), int(t+nextevent+1)):\n",
    "        delt=intertimes-tprevious\n",
    "        for k,l in singles:\n",
    "            pos[k][l] += vel[k][l]*delt\n",
    "        tprevious=intertimes\n",
    "        for conf in configurations:\n",
    "            conditionhit = True\n",
    "            for b in conf:\n",
    "                conditionb = min(max(abs(a[0]-b[0]), abs(a[1]-b[1])) for a in pos) < delxy\n",
    "                conditionhit *= conditionb\n",
    "            if conditionhit:\n",
    "                hits[conf] += 1\n",
    "    t += nextevent\n",
    "    delt = t-tprevious\n",
    "    for k,l in singles:\n",
    "        pos[k][l] += vel[k][l]*delt\n",
    "    if min(walltimes) < min(pairtimes):\n",
    "        collisiondisk, direction = singles[walltimes.index(nextevent)]\n",
    "        vel[collisiondisk][direction] *= -1.0\n",
    "    else:\n",
    "        a,b=pairs[pairtimes.index(nextevent)]\n",
    "        delx=[pos[b][0]-pos[a][0],pos[b][1]-pos[a][1]]\n",
    "        absx=math.sqrt(delx[0]**2+delx[1]**2)\n",
    "        eperp=[c / absx for c in delx]\n",
    "        delv=[vel[b][0]-vel[a][0],vel[b][1]-vel[a][1]]\n",
    "        scal=delv[0]*eperp[0]+delv[1]*eperp[1]\n",
    "        for k in range(2):\n",
    "            vel[a][k]+=eperp[k]*scal\n",
    "            vel[b][k]-=eperp[k]*scal\n",
    "for conf in configurations:\n",
    "    print conf,hits[conf]"
   ]
  },
  {
   "cell_type": "code",
   "execution_count": null,
   "metadata": {
    "collapsed": true
   },
   "outputs": [],
   "source": [
    "# conf_a = ((0.3, 0.3), (0.3, 0.7), (0.7, 0.3), (0.7, 0.7)) 613\n",
    "# conf_b = ((0.2, 0.2), (0.2, 0.8), (0.75, 0.25), (0.75, 0.75)) 614\n",
    "# conf_c = ((0.3, 0.2), (0.3, 0.8), (0.7, 0.2), (0.7, 0.7)) 655"
   ]
  },
  {
   "cell_type": "markdown",
   "metadata": {},
   "source": [
    "Dentro de la precisión numérica se ven bueno indicios de equiprobabilidad entre las 3 configuraciones, difieren por muy pocos hits considerando la cantidad de eventos (5*10^6)"
   ]
  },
  {
   "cell_type": "markdown",
   "metadata": {},
   "source": [
    "Para la siguiente parate de conocer el tiempo final de la simulación la ram de la computadora no fue suficiente para soportar los 5x10^6 de eventos, así que tuve que vajar a 5x10^4.\n"
   ]
  },
  {
   "cell_type": "code",
   "execution_count": null,
   "metadata": {
    "collapsed": true
   },
   "outputs": [],
   "source": [
    "# Con 5*10^4 eventos\n",
    "# conf_a = ((0.3, 0.3), (0.3, 0.7), (0.7, 0.3), (0.7, 0.7)) 7\n",
    "# conf_b = ((0.2, 0.2), (0.2, 0.8), (0.75, 0.25), (0.75, 0.75)) 6\n",
    "# conf_c = ((0.3, 0.2), (0.3, 0.8), (0.7, 0.2), (0.7, 0.7)) 4\n",
    "\n",
    "Tiempo total de corrida al final = 6124.1849689 (con 5*10^4 eventos)\n",
    "Las configuraciones se analizaron 18372 veces\n",
    "Y se anlizaron en los tiempos:```````\n",
    "    \n",
    "Se anliza a tiempos 0.873261065895\n",
    "Se anliza a tiempos 0.873261065895\n",
    "Se anliza a tiempos 0.873261065895\n",
    "Se anliza a tiempos 1.65202995405\n",
    "Se anliza a tiempos 1.65202995405\n",
    "Se anliza a tiempos 1.65202995405\n",
    "Se anliza a tiempos 2.98713699557\n",
    "Se anliza a tiempos 2.98713699557\n",
    "Se anliza a tiempos 2.98713699557\n",
    "Se anliza a tiempos 3.90764207346\n",
    "Se anliza a tiempos 3.90764207346\n",
    "Se anliza a tiempos 3.90764207346\n",
    "Se anliza a tiempos 4.74392433914\n",
    "Se anliza a tiempos 4.74392433914\n",
    "Se anliza a tiempos 4.74392433914\n",
    "Se anliza a tiempos 5.91804600608\n",
    "Se anliza a tiempos 5.91804600608\n",
    "Se anliza a tiempos 5.91804600608\n",
    "Se anliza a tiempos 6.96993251602\n",
    "Se anliza a tiempos 6.96993251602\n",
    "Se anliza a tiempos 6.96993251602\n",
    "Se anliza a tiempos 7.99776656095\n",
    "Se anliza a tiempos 7.99776656095\n",
    "Se anliza a tiempos 7.99776656095\n",
    "Se anliza a tiempos 8.98950287157\n",
    "Se anliza a tiempos 8.98950287157\n",
    "Se anliza a tiempos 8.98950287157\n",
    "Se anliza a tiempos 9.76137598809\n",
    "Se anliza a tiempos 9.76137598809\n",
    "Se anliza a tiempos 9.76137598809\n",
    ".\n",
    ".\n",
    "."
   ]
  },
  {
   "cell_type": "markdown",
   "metadata": {},
   "source": [
    "# Seccion B1"
   ]
  },
  {
   "cell_type": "markdown",
   "metadata": {},
   "source": [
    "![title](histograma_b1.png)"
   ]
  },
  {
   "cell_type": "markdown",
   "metadata": {},
   "source": [
    "Parece extraño ver una distribución para nada uniforme si nuestras configuraciones son equiprobables, esto se debe al tamaño de la caja, en una caja más grande veriamos una distribución un poco más plana, en esta vemos que los lados parecen atraer más discos."
   ]
  },
  {
   "cell_type": "markdown",
   "metadata": {},
   "source": [
    "# Seccion B2"
   ]
  },
  {
   "cell_type": "code",
   "execution_count": null,
   "metadata": {
    "collapsed": true
   },
   "outputs": [],
   "source": [
    "import random, pylab\n",
    "\n",
    "L = [[0.25, 0.25], [0.75, 0.25], [0.25, 0.75], [0.75, 0.75]]\n",
    "sigma = 0.1197\n",
    "delta = 0.1\n",
    "n_steps = 2*10**6\n",
    "histo_data = []\n",
    "for steps in range(n_steps):\n",
    "    a = random.choice(L)\n",
    "    b = [a[0] + random.uniform(-delta, delta), a[1] + random.uniform(-delta, delta)]\n",
    "    min_dist = min((b[0] - c[0]) ** 2 + (b[1] - c[1]) ** 2 for c in L if c != a)\n",
    "    box_cond = min(b[0], b[1]) < sigma or max(b[0], b[1]) > 1.0 - sigma\n",
    "    if not (box_cond or min_dist < 4.0 * sigma ** 2):\n",
    "        a[:] = b\n",
    "    for k in range(4):\n",
    "        histo_data.append(L[k][0])\n",
    "pylab.hist(histo_data,bins=100,normed=True)\n",
    "pylab.xlabel(\"x-coordinate\")\n",
    "pylab.ylabel(\"Probability Density\")\n",
    "pylab.title(\"Markov Disks Box: Proability Distribution of Coordinate x\")\n",
    "pylab.grid()\n",
    "pylab.savefig(\"directdiskshisto.png\")\n",
    "pylab.show()"
   ]
  },
  {
   "cell_type": "markdown",
   "metadata": {},
   "source": [
    "![title](histograma_b2v2.png)"
   ]
  },
  {
   "cell_type": "markdown",
   "metadata": {},
   "source": [
    "# Seccion B3"
   ]
  },
  {
   "cell_type": "code",
   "execution_count": null,
   "metadata": {
    "collapsed": true
   },
   "outputs": [],
   "source": [
    "import math,pylab\n",
    "\n",
    "def walltime(posa,vela,sigma):\n",
    "    if vela > 0.0:\n",
    "        delt = (1.0 - sigma - posa)/vela\n",
    "    elif vela < 0.0:\n",
    "        delt = (posa-sigma)/abs(vela)\n",
    "    else:\n",
    "        delt = float(\"inf\")\n",
    "    return delt\n",
    "\n",
    "def pairtime(posa,vela,posb,velb,sigma):\n",
    "    delx = [posb[0]-posa[0],posb[1]-posa[1]]\n",
    "    delxsq = delx[0]**2+delx[1]**2\n",
    "    delv = [velb[0]-vela[0],velb[1]-vela[1]]\n",
    "    delvsq = delv[0]**2+delv[1]**2\n",
    "    scal = delv[0]*delx[0]+delv[1]*delx[1]\n",
    "    Upsilon = scal**2-delvsq*(delxsq-4.0*sigma**2)\n",
    "    if Upsilon > 0.0 and scal < 0.0:\n",
    "        delt = -(scal+math.sqrt(Upsilon))/delvsq\n",
    "    else:\n",
    "        delt = float(\"inf\")\n",
    "    return delt\n",
    "\n",
    "histo_data=[]\n",
    "confa = ((0.30,0.30),(0.30,0.70),(0.70,0.30),(0.70,0.70))\n",
    "confb = ((0.20,0.20),(0.20,0.80),(0.75,0.25),(0.75,0.75))\n",
    "confc = ((0.30,0.20),(0.30,0.80),(0.70,0.20),(0.70,0.70))\n",
    "configurations = [confa,confb,confc]\n",
    "hits = {confa:0,confb:0,confc:0}\n",
    "delxy = 0.10\n",
    "pos = [[0.25,0.25],[0.75,0.25],[0.25,0.75],[0.75,0.75]]\n",
    "vel = [[0.21,0.12],[0.71,0.18],[-0.23,-0.79],[0.78,0.1177]]\n",
    "singles = [(0,0),(0,1),(1,0),(1,1),(2,0),(2,1),(3,0),(3,1)]\n",
    "pairs = [(0,1),(0,2),(0,3),(1,2),(1,3),(2,3)]\n",
    "sigma = 0.1197\n",
    "t = 0.0\n",
    "nevents = 5000000\n",
    "\n",
    "for event in range(nevents):\n",
    "    # if event %100000 == 0:\n",
    "    #     print event\n",
    "    walltimes=[walltime(pos[k][l],vel[k][l],sigma) for k,l in singles]\n",
    "    pairtimes=[pairtime(pos[k],vel[k],pos[l],vel[l],sigma)for k,l in pairs]\n",
    "    nextevent=min(walltimes+pairtimes)\n",
    "    tprevious=t\n",
    "    for intertimes in range(int(t+1), int(t+nextevent+1)):\n",
    "        delt=intertimes-tprevious\n",
    "        for k,l in singles:\n",
    "            pos[k][l] += vel[k][l]*delt\n",
    "        tprevious=intertimes\n",
    "        for conf in configurations:\n",
    "            conditionhit = True\n",
    "            for k in range(4):\n",
    "                histo_data.append(pos[k][0])\n",
    "            for b in conf:\n",
    "                conditionb = min(max(abs(a[0]-b[0]), abs(a[1]-b[1])) for a in pos) < delxy\n",
    "                conditionhit *= conditionb\n",
    "            if conditionhit:\n",
    "                hits[conf] += 1\n",
    "    t += nextevent\n",
    "    delt = t-tprevious\n",
    "    for k,l in singles:\n",
    "        pos[k][l] += vel[k][l]*delt\n",
    "    if min(walltimes) < min(pairtimes):\n",
    "        collisiondisk, direction = singles[walltimes.index(nextevent)]\n",
    "        vel[collisiondisk][direction] *= -1.0\n",
    "    else:\n",
    "        a,b=pairs[pairtimes.index(nextevent)]\n",
    "        delx=[pos[b][0]-pos[a][0],pos[b][1]-pos[a][1]]\n",
    "        absx=math.sqrt(delx[0]**2+delx[1]**2)\n",
    "        eperp=[c / absx for c in delx]\n",
    "        delv=[vel[b][0]-vel[a][0],vel[b][1]-vel[a][1]]\n",
    "        scal=delv[0]*eperp[0]+delv[1]*eperp[1]\n",
    "        for k in range(2):\n",
    "            vel[a][k]+=eperp[k]*scal\n",
    "            vel[b][k]-=eperp[k]*scal\n",
    "for conf in configurations:\n",
    "    print conf,hits[conf]\n",
    "pylab.hist(histo_data,bins=100,normed=True)\n",
    "pylab.xlabel(\"x-coordinate\")\n",
    "pylab.ylabel(\"Probability Density\")\n",
    "pylab.title(\"Direct Sampling: Proability Distribution of Coordinate x (density eta=0.18)\")\n",
    "pylab.grid()\n",
    "pylab.savefig(\"directdiskshisto.png\")\n",
    "pylab.show()"
   ]
  },
  {
   "cell_type": "markdown",
   "metadata": {},
   "source": [
    "![title](hitograma_b3.png)"
   ]
  },
  {
   "cell_type": "markdown",
   "metadata": {},
   "source": [
    "Los 3 muestreos dan resultados muy parecidos, las diferencias son mínimas como para considerarlos realmente diferentes. La de Markov se ve un poco más irregular, se puede atribuir a la naturaleza del algoritmo pero es impresionante como con una tecnica asi de sencilla obtenemos resultados bastante parecidos a las otras dos."
   ]
  }
 ],
 "metadata": {
  "kernelspec": {
   "display_name": "Python 2",
   "language": "python",
   "name": "python2"
  },
  "language_info": {
   "codemirror_mode": {
    "name": "ipython",
    "version": 2
   },
   "file_extension": ".py",
   "mimetype": "text/x-python",
   "name": "python",
   "nbconvert_exporter": "python",
   "pygments_lexer": "ipython2",
   "version": "2.7.13"
  }
 },
 "nbformat": 4,
 "nbformat_minor": 2
}

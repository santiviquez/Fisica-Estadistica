{
 "cells": [
  {
   "cell_type": "markdown",
   "metadata": {},
   "source": [
    "# Tarea 3: Líquidos y Sólidos Bidimensionales"
   ]
  },
  {
   "cell_type": "markdown",
   "metadata": {},
   "source": [
    "## Sección A1"
   ]
  },
  {
   "cell_type": "markdown",
   "metadata": {},
   "source": [
    "**Programa 1**"
   ]
  },
  {
   "cell_type": "code",
   "execution_count": 1,
   "metadata": {},
   "outputs": [
    {
     "name": "stderr",
     "output_type": "stream",
     "text": [
      "/home/santiago/anaconda3/envs/fisica-estadistica/lib/python2.7/site-packages/matplotlib/font_manager.py:280: UserWarning: Matplotlib is building the font cache using fc-list. This may take a moment.\n",
      "  'Matplotlib is building the font cache using fc-list. '\n"
     ]
    },
    {
     "data": {
      "image/png": "[encoded data removed]",
      "text/plain": [
       "<matplotlib.figure.Figure at 0x7fc8196ac450>"
      ]
     },
     "metadata": {},
     "output_type": "display_data"
    }
   ],
   "source": [
    "import pylab\n",
    "def show_conf(L, sigma, title, fname):\n",
    "\tpylab.axes()\n",
    "\tfor [x,y] in L:\n",
    "\t\tfor ix in range(-1,2):\n",
    "\t\t\tfor iy in range(-1,2):\n",
    "\t\t\t\tcir = pylab.Circle((x + ix, y + iy), radius = sigma, fc = \"r\")\n",
    "\t\t\t\tpylab.gca().add_patch(cir)\n",
    "\t\n",
    "\tpylab.axis(\"scaled\")\n",
    "\tpylab.title(title)\n",
    "\tpylab.axis([0.0, 1.0, 0.0, 1.0])\n",
    "\tpylab.savefig(fname)\n",
    "\tpylab.show()\n",
    "\tpylab.close()\n",
    "\n",
    "L = [[0.9,0.9]]\n",
    "sigma = 0.4\n",
    "show_conf(L, sigma, \"testgraph\", \"onedisk.png\")"
   ]
  },
  {
   "cell_type": "markdown",
   "metadata": {},
   "source": [
    "#### **Pregunta 1**: ¿Cuál objeto geométrico dibuja?"
   ]
  },
  {
   "cell_type": "markdown",
   "metadata": {},
   "source": [
    "La figura geométrica es un cículo."
   ]
  },
  {
   "cell_type": "markdown",
   "metadata": {},
   "source": [
    "#### **Pregunta 2**: ¿Cuál es el color del objeto y en dónde es que se especifica?"
   ]
  },
  {
   "cell_type": "markdown",
   "metadata": {},
   "source": [
    "El color es rojo y se especifica en la línea 7:"
   ]
  },
  {
   "cell_type": "code",
   "execution_count": null,
   "metadata": {
    "collapsed": true
   },
   "outputs": [],
   "source": [
    "cir = pylab.Circle((x + ix, y + iy), radius = sigma, fc = \"r\") #fc = color"
   ]
  },
  {
   "cell_type": "markdown",
   "metadata": {},
   "source": [
    "El parametro fc setea el color del objeto."
   ]
  },
  {
   "cell_type": "markdown",
   "metadata": {},
   "source": [
    "#### Pregunta 3: ¿Cómo se implementa las condiciones periódicas de contorno?"
   ]
  },
  {
   "cell_type": "markdown",
   "metadata": {},
   "source": [
    "?"
   ]
  },
  {
   "cell_type": "markdown",
   "metadata": {},
   "source": [
    "#### Pregunta 4: ¿Qué hace que usted lo pueda ver en la pantalla de la computadora?"
   ]
  },
  {
   "cell_type": "code",
   "execution_count": 4,
   "metadata": {
    "collapsed": true
   },
   "outputs": [],
   "source": [
    "pylab.show() #se encarga de montrar el gráfico"
   ]
  },
  {
   "cell_type": "markdown",
   "metadata": {},
   "source": [
    "#### Pregunta 5: ¿Acaso este programa crea un archivo? ¿Cuál es el nombre del archivo? ¿Cómo se puede cambiar?"
   ]
  },
  {
   "cell_type": "markdown",
   "metadata": {},
   "source": [
    "Sí el programa crea un archivo, en la siguiente línea:"
   ]
  },
  {
   "cell_type": "code",
   "execution_count": null,
   "metadata": {
    "collapsed": true
   },
   "outputs": [],
   "source": [
    "pylab.savefig(fname) #se encarga de guardar el archivo"
   ]
  },
  {
   "cell_type": "markdown",
   "metadata": {},
   "source": [
    "El nombre del archivo es **onedisk.png** se declara y se puede cambiar el último parámetro de la función show_conf:"
   ]
  },
  {
   "cell_type": "code",
   "execution_count": null,
   "metadata": {
    "collapsed": true
   },
   "outputs": [],
   "source": [
    "show_conf(L, sigma, \"testgraph\", \"onedisk.png\") #llama la función show_conf"
   ]
  },
  {
   "cell_type": "markdown",
   "metadata": {},
   "source": [
    "## Sección A2"
   ]
  },
  {
   "cell_type": "markdown",
   "metadata": {},
   "source": [
    "**Programa 2**"
   ]
  },
  {
   "cell_type": "code",
   "execution_count": null,
   "metadata": {
    "collapsed": true
   },
   "outputs": [],
   "source": [
    "import os,random\n",
    "\n",
    "filename = \"diskconfiguration.txt\"\n",
    "if os.path.isfile(filename):\n",
    "\tf = open(filename,\"r\")\n",
    "\tL = []\n",
    "\tfor line in f:\n",
    "\t\ta, b = line.split()\n",
    "\t\tL.append([float(a), float(b)])\n",
    "\tf.close()\n",
    "\tprint \"startingfromfile\", filename\n",
    "else:\n",
    "\tL=[]\n",
    "\tfor k in range(3):\n",
    "\t\tL.append([random.uniform(0.0,1.0), random.uniform(0.0,1.0)])\n",
    "\tprint \"starting from a new random configuration\"\n",
    "\n",
    "L[0][0] = 3.3\n",
    "f = open(filename,\"w\")\n",
    "for a in L:\n",
    "\tf.write(str(a[0]) + \" \" + str(a[1]) + \"\\n\")\n",
    "f.close()"
   ]
  },
  {
   "cell_type": "markdown",
   "metadata": {},
   "source": [
    "#### **Pregunta 1**: ¿Qué hace el test de condición if os.path.isfile(filename)?"
   ]
  },
  {
   "cell_type": "markdown",
   "metadata": {},
   "source": [
    "Se fija para ver si el archivo **diskconfiguration.txt** ya existe en el directorio."
   ]
  },
  {
   "cell_type": "markdown",
   "metadata": {},
   "source": [
    "#### Pregunta 2: ¿Cuál es la diferencia entre f = open(filename, ’r’)\" and \"f = open(filename, ’w’)?"
   ]
  },
  {
   "cell_type": "markdown",
   "metadata": {},
   "source": [
    "Ambos abren el archivo, solamente que el primero lo abre para leerlo y el segundo para escribirlo."
   ]
  },
  {
   "cell_type": "markdown",
   "metadata": {},
   "source": [
    "#### Pregunta 3: ¿Cuál es el significado de f.write(str(a[0]) + ’  ’ + str(a[1]) + ’\\n’)?"
   ]
  },
  {
   "cell_type": "markdown",
   "metadata": {},
   "source": [
    "Escribe en el archivo el valor de **a** en la primera(**a[0]**) y segunda(**a[1]**) entrada, los escribe como datos de tipo String, en medio de estos incerta un espacio en blanco(**\" \"**) y finalmente inseta un salto de línea(**\"\\n\"**) para que los siguiente queden en un renglón aparte."
   ]
  },
  {
   "cell_type": "markdown",
   "metadata": {},
   "source": [
    "#### Pregunta 4: ¿Cuál es el potencial uso de este programa?"
   ]
  },
  {
   "cell_type": "markdown",
   "metadata": {},
   "source": [
    "Crear configuraciones iniciales para un programa y cargarlas de nuevo cada vez que se corre."
   ]
  },
  {
   "cell_type": "markdown",
   "metadata": {},
   "source": [
    "## Sección B1"
   ]
  },
  {
   "cell_type": "markdown",
   "metadata": {},
   "source": [
    "**mi_markov_disk.py**"
   ]
  },
  {
   "cell_type": "code",
   "execution_count": 6,
   "metadata": {},
   "outputs": [
    {
     "name": "stdout",
     "output_type": "stream",
     "text": [
      "[[0.0670158877621122, 0.33870296987788473], [0.6152181012951958, 0.05119846953542262], [0.9684981943523313, 0.231682552940837], [0.9047133646147538, 0.09812264393224594]]\n"
     ]
    }
   ],
   "source": [
    "import random, math\n",
    "\n",
    "def dist(x,y):\n",
    "    d_x = abs(x[0] - y[0]) % 1.0\n",
    "    d_x = min(d_x, 1.0 - d_x)\n",
    "    d_y = abs(x[1] - y[1]) % 1.0\n",
    "    d_y = min(d_y, 1.0 - d_y)\n",
    "    return  math.sqrt(d_x**2 + d_y**2)\n",
    "\n",
    "L = [[0.25, 0.25], [0.75, 0.25], [0.25, 0.75], [0.75, 0.75]]\n",
    "sigma = 0.15\n",
    "sigma_sq = sigma ** 2\n",
    "delta = 0.1\n",
    "n_steps = 1000\n",
    "for steps in range(n_steps):\n",
    "    a = random.choice(L)\n",
    "    b = [(a[0] + random.uniform(-delta, delta))%1.0, (a[1] + random.uniform(-delta, delta))%1.0]\n",
    "    #min_dist = min((b[0] - c[0]) ** 2 + (b[1] - c[1]) ** 2 for c in L if c != a)\n",
    "    min_dist = min(dist(b, c) for c in L if c != a)\n",
    "    #box_cond = min(b[0], b[1]) < sigma or max(b[0], b[1]) > 1.0 - sigma\n",
    "    #if not (box_cond or min_dist < 4.0 * sigma ** 2):\n",
    "    if not (min_dist < 4.0*sigma**2 ):\n",
    "        a[:] = b\n",
    "print L"
   ]
  },
  {
   "cell_type": "markdown",
   "metadata": {},
   "source": [
    "## Sección B2"
   ]
  },
  {
   "cell_type": "code",
   "execution_count": 3,
   "metadata": {},
   "outputs": [
    {
     "name": "stdout",
     "output_type": "stream",
     "text": [
      "[[0.3153949273445748, 0.7550285229022448], [0.46238144579659846, 0.1885542145751291], [0.9283638795918061, 0.6798811788053899], [0.7619180322712269, 0.1079720354117431]]\n"
     ]
    },
    {
     "data": {
      "image/png": "[encoded data removed]",
      "text/plain": [
       "<matplotlib.figure.Figure at 0x7f1c65776fd0>"
      ]
     },
     "metadata": {},
     "output_type": "display_data"
    }
   ],
   "source": [
    "import math, random, pylab\n",
    " \n",
    "def dist(x,y):\n",
    "    d_x = abs(x[0] - y[0]) % 1.0\n",
    "    d_x = min(d_x, 1.0 - d_x)\n",
    "    d_y = abs(x[1] - y[1]) % 1.0\n",
    "    d_y = min(d_y, 1.0 - d_y)\n",
    "    return math.sqrt(d_x**2 + d_y**2)\n",
    "   \n",
    "def print_final_conf(L, sigma, title, fname):\n",
    "    pylab.axes()\n",
    "    for [x, y] in L:\n",
    "        for ix in range(-1, 2):\n",
    "            for iy in range(-1, 2):\n",
    "                cir = pylab.Circle((x + ix, y + iy), radius = sigma,  fc = 'r')\n",
    "                pylab.gca().add_patch(cir)\n",
    "    pylab.axis('scaled')\n",
    "    pylab.title(title)\n",
    "    pylab.axis([0.0, 1.0, 0.0, 1.0])\n",
    "    pylab.savefig(fname)\n",
    "    pylab.show()\n",
    "   \n",
    "L = [[0.25, 0.25], [0.75, 0.25], [0.25, 0.75], [0.75, 0.75]]\n",
    "sigma = 0.15\n",
    "delta = 0.1\n",
    "n_steps = 1000\n",
    "for steps in range(n_steps):\n",
    "    a = random.choice(L)\n",
    "    b = [(a[0] + random.uniform(-delta, delta)) % 1.0,\n",
    "         (a[1] + random.uniform(-delta, delta)) % 1.0]\n",
    "    min_dist = min(dist(b, c) for c in L if c != a)\n",
    "    if min_dist > 2 * sigma:\n",
    "        a[:] = b\n",
    "       \n",
    "print L\n",
    "print_final_conf(L, sigma, 'Configuraciones Finales con 1000 iteraciones', 'configuraciones_finales_b2.png')"
   ]
  },
  {
   "cell_type": "markdown",
   "metadata": {},
   "source": [
    "## Sección B3"
   ]
  },
  {
   "cell_type": "code",
   "execution_count": null,
   "metadata": {},
   "outputs": [],
   "source": [
    "import math, os, random, pylab\n",
    " \n",
    "def dist(x, y):\n",
    "\n",
    "    d_x = abs(x[0] - y[0]) % 1.0\n",
    "    d_x = min(d_x, 1.0 - d_x)\n",
    "    d_y = abs(x[1] - y[1]) % 1.0\n",
    "    d_y = min(d_y, 1.0 - d_y)\n",
    "    return math.sqrt(d_x**2 + d_y**2)\n",
    "   \n",
    "def print_final_conf(L, sigma, title, fname):\n",
    "    pylab.axes()\n",
    "    for [x, y] in L:\n",
    "        for ix in range(-1, 2):\n",
    "            for iy in range(-1, 2):\n",
    "                cir = pylab.Circle((x + ix, y + iy), radius = sigma,  fc = 'r')\n",
    "                pylab.gca().add_patch(cir)\n",
    "    pylab.axis('scaled')\n",
    "    pylab.title(title)\n",
    "    pylab.axis([0.0, 1.0, 0.0, 1.0])\n",
    "    pylab.savefig(fname)\n",
    "    pylab.show()\n",
    " \n",
    "N = 256\n",
    "eta = 0.72 \n",
    "K = int(math.sqrt(N))\n",
    "sigma = math.sqrt(eta / (N * math.pi))\n",
    "delta = 0.1\n",
    "n_steps = 0\n",
    " \n",
    "filename = \"disk_configuration_N %i_eta %.2f.txt\"\n",
    " \n",
    "if os.path.isfile(filename):\n",
    "    f = open(filename, 'r')\n",
    "    L = []\n",
    "    for line in f:\n",
    "        a, b = line.split()\n",
    "        L.append([float(a), float(b)])\n",
    "    f.close()\n",
    "    print \"Starting from file\", filename\n",
    "else:\n",
    "    L = []\n",
    "    for i in range(K):\n",
    "        for j in range(K):\n",
    "            L.append([float(i)/K + 0.5 / K, float(j)/K + 0.5 / K])\n",
    "    print \"Starting from scratch\"\n",
    " \n",
    "for steps in range(n_steps):\n",
    "    a = random.choice(L)\n",
    "    b = [(a[0] + random.uniform(-delta, delta)) % 1.0,\n",
    "         (a[1] + random.uniform(-delta, delta)) % 1.0]\n",
    "    min_dist = min(dist(b, c) for c in L if c != a)\n",
    "    if min_dist > 2 * sigma:\n",
    "        a[:] = b\n",
    "       \n",
    "print L\n",
    " \n",
    "print_final_conf(L, sigma,'N = %i' % N, 'eta = %i' % eta)\n",
    " \n",
    "f = open(filename, 'w')\n",
    "for a in L:\n",
    "    f.write(str(a[0]) + ' ' + str(a[1]) + '\\n')\n",
    "f.close()"
   ]
  },
  {
   "cell_type": "markdown",
   "metadata": {},
   "source": [
    "![title](b3.png)"
   ]
  },
  {
   "cell_type": "markdown",
   "metadata": {},
   "source": [
    "**Indique hasta qué valor inicial de la densidad de la red cuadrada es una configuración legal:** Ya más arriba de 0.80 los discos empiezan a traslaparse."
   ]
  },
  {
   "cell_type": "markdown",
   "metadata": {},
   "source": [
    "## Sección B4"
   ]
  },
  {
   "cell_type": "markdown",
   "metadata": {},
   "source": [
    "Añada un gráfico de la configuración inicial."
   ]
  },
  {
   "cell_type": "markdown",
   "metadata": {},
   "source": [
    "![title](256_3.png)"
   ]
  },
  {
   "cell_type": "markdown",
   "metadata": {},
   "source": [
    "Añada un gráfico de la configuración final de la secuencia."
   ]
  },
  {
   "cell_type": "markdown",
   "metadata": {},
   "source": [
    "![title](256_4.png)"
   ]
  },
  {
   "cell_type": "markdown",
   "metadata": {},
   "source": []
  },
  {
   "cell_type": "markdown",
   "metadata": {},
   "source": [
    "## Seccion B5"
   ]
  },
  {
   "cell_type": "markdown",
   "metadata": {},
   "source": [
    "![title](b5_1.png)"
   ]
  },
  {
   "cell_type": "code",
   "execution_count": 14,
   "metadata": {},
   "outputs": [
    {
     "data": {
      "text/plain": [
       "[[0.03125, 0.03125],\n",
       " [0.03125, 0.09375],\n",
       " [0.03125, 0.15625],\n",
       " [0.03125, 0.21875],\n",
       " [0.03125, 0.28125],\n",
       " [0.03125, 0.34375],\n",
       " [0.03125, 0.40625],\n",
       " [0.03125, 0.46875],\n",
       " [0.03125, 0.53125],\n",
       " [0.03125, 0.59375],\n",
       " [0.03125, 0.65625],\n",
       " [0.0299777795014, 0.719978518477],\n",
       " [0.03125, 0.78125],\n",
       " [0.03125, 0.84375],\n",
       " [0.03125, 0.90625],\n",
       " [0.03125, 0.96875],\n",
       " [0.09375, 0.03125],\n",
       " [0.09375, 0.09375],\n",
       " [0.09375, 0.15625],\n",
       " [0.09375, 0.21875],\n",
       " [0.09375, 0.28125],\n",
       " [0.09375, 0.34375],\n",
       " [0.09375, 0.40625],\n",
       " [0.09375, 0.46875],\n",
       " [0.09375, 0.53125],\n",
       " [0.09375, 0.59375],\n",
       " [0.09375, 0.65625],\n",
       " [0.09375, 0.71875],\n",
       " [0.09375, 0.78125],\n",
       " [0.09375, 0.84375],\n",
       " [0.09375, 0.90625],\n",
       " [0.09375, 0.96875],\n",
       " [0.15625, 0.03125],\n",
       " [0.15625, 0.09375],\n",
       " [0.15625, 0.15625],\n",
       " [0.15625, 0.21875],\n",
       " [0.15625, 0.28125],\n",
       " [0.15625, 0.34375],\n",
       " [0.15625, 0.40625],\n",
       " [0.15625, 0.46875],\n",
       " [0.15625, 0.53125],\n",
       " [0.15625, 0.59375],\n",
       " [0.15625, 0.65625],\n",
       " [0.15625, 0.71875],\n",
       " [0.15625, 0.78125],\n",
       " [0.15625, 0.84375],\n",
       " [0.15625, 0.90625],\n",
       " [0.15625, 0.96875],\n",
       " [0.21875, 0.03125],\n",
       " [0.21875, 0.09375],\n",
       " [0.21875, 0.15625],\n",
       " [0.21875, 0.21875],\n",
       " [0.21875, 0.28125],\n",
       " [0.21875, 0.34375],\n",
       " [0.21875, 0.40625],\n",
       " [0.21875, 0.46875],\n",
       " [0.21875, 0.53125],\n",
       " [0.21875, 0.59375],\n",
       " [0.21875, 0.65625],\n",
       " [0.21875, 0.71875],\n",
       " [0.21875, 0.78125],\n",
       " [0.21875, 0.84375],\n",
       " [0.21875, 0.90625],\n",
       " [0.21875, 0.96875],\n",
       " [0.28125, 0.03125],\n",
       " [0.28125, 0.09375],\n",
       " [0.28125, 0.15625],\n",
       " [0.28125, 0.21875],\n",
       " [0.28125, 0.28125],\n",
       " [0.28125, 0.34375],\n",
       " [0.28125, 0.40625],\n",
       " [0.28125, 0.46875],\n",
       " [0.28125, 0.53125],\n",
       " [0.28125, 0.59375],\n",
       " [0.28125, 0.65625],\n",
       " [0.28125, 0.71875],\n",
       " [0.28125, 0.78125],\n",
       " [0.28125, 0.84375],\n",
       " [0.28125, 0.90625],\n",
       " [0.28125, 0.96875],\n",
       " [0.34375, 0.03125],\n",
       " [0.34375, 0.09375],\n",
       " [0.34375, 0.15625],\n",
       " [0.34375, 0.21875],\n",
       " [0.34375, 0.28125],\n",
       " [0.34375, 0.34375],\n",
       " [0.345646315532, 0.405711503357],\n",
       " [0.34375, 0.46875],\n",
       " [0.342402230409, 0.532330873808],\n",
       " [0.34375, 0.59375],\n",
       " [0.34375, 0.65625],\n",
       " [0.34375, 0.71875],\n",
       " [0.34375, 0.78125],\n",
       " [0.34375, 0.84375],\n",
       " [0.34375, 0.90625],\n",
       " [0.34375, 0.96875],\n",
       " [0.40625, 0.03125],\n",
       " [0.40625, 0.09375],\n",
       " [0.40625, 0.15625],\n",
       " [0.40625, 0.21875],\n",
       " [0.40625, 0.28125],\n",
       " [0.40625, 0.34375],\n",
       " [0.40625, 0.40625],\n",
       " [0.40625, 0.46875],\n",
       " [0.40625, 0.53125],\n",
       " [0.40625, 0.59375],\n",
       " [0.40625, 0.65625],\n",
       " [0.40625, 0.71875],\n",
       " [0.40625, 0.78125],\n",
       " [0.40625, 0.84375],\n",
       " [0.40625, 0.90625],\n",
       " [0.40625, 0.96875],\n",
       " [0.468793815715, 0.0296391426991],\n",
       " [0.46875, 0.09375],\n",
       " [0.46875, 0.15625],\n",
       " [0.46875, 0.21875],\n",
       " [0.46875, 0.28125],\n",
       " [0.46875, 0.34375],\n",
       " [0.46875, 0.40625],\n",
       " [0.46875, 0.46875],\n",
       " [0.46875, 0.53125],\n",
       " [0.46875, 0.59375],\n",
       " [0.46875, 0.65625],\n",
       " [0.46875, 0.71875],\n",
       " [0.46875, 0.78125],\n",
       " [0.46875, 0.84375],\n",
       " [0.46875, 0.90625],\n",
       " [0.46875, 0.96875],\n",
       " [0.53125, 0.03125],\n",
       " [0.53125, 0.09375],\n",
       " [0.53125, 0.15625],\n",
       " [0.53125, 0.21875],\n",
       " [0.53125, 0.28125],\n",
       " [0.53125, 0.34375],\n",
       " [0.53125, 0.40625],\n",
       " [0.53125, 0.46875],\n",
       " [0.53125, 0.53125],\n",
       " [0.53125, 0.59375],\n",
       " [0.53125, 0.65625],\n",
       " [0.53125, 0.71875],\n",
       " [0.53125, 0.78125],\n",
       " [0.53125, 0.84375],\n",
       " [0.53125, 0.90625],\n",
       " [0.53125, 0.96875],\n",
       " [0.59375, 0.03125],\n",
       " [0.59375, 0.09375],\n",
       " [0.59375, 0.15625],\n",
       " [0.59375, 0.21875],\n",
       " [0.59375, 0.28125],\n",
       " [0.59375, 0.34375],\n",
       " [0.59375, 0.40625],\n",
       " [0.59375, 0.46875],\n",
       " [0.59375, 0.53125],\n",
       " [0.59375, 0.59375],\n",
       " [0.59375, 0.65625],\n",
       " [0.59375, 0.71875],\n",
       " [0.59375, 0.78125],\n",
       " [0.59375, 0.84375],\n",
       " [0.59375, 0.90625],\n",
       " [0.59375, 0.96875],\n",
       " [0.65625, 0.03125],\n",
       " [0.65625, 0.09375],\n",
       " [0.65625, 0.15625],\n",
       " [0.65625, 0.21875],\n",
       " [0.65625, 0.28125],\n",
       " [0.65625, 0.34375],\n",
       " [0.65625, 0.40625],\n",
       " [0.65625, 0.46875],\n",
       " [0.65625, 0.53125],\n",
       " [0.65625, 0.59375],\n",
       " [0.65625, 0.65625],\n",
       " [0.65625, 0.71875],\n",
       " [0.65625, 0.78125],\n",
       " [0.65625, 0.84375],\n",
       " [0.655411503233, 0.906663635639],\n",
       " [0.65625, 0.96875],\n",
       " [0.71875, 0.03125],\n",
       " [0.71875, 0.09375],\n",
       " [0.71875, 0.15625],\n",
       " [0.71875, 0.21875],\n",
       " [0.71875, 0.28125],\n",
       " [0.71875, 0.34375],\n",
       " [0.71875, 0.40625],\n",
       " [0.71875, 0.46875],\n",
       " [0.71875, 0.53125],\n",
       " [0.71875, 0.59375],\n",
       " [0.71875, 0.65625],\n",
       " [0.71875, 0.71875],\n",
       " [0.71875, 0.78125],\n",
       " [0.71875, 0.84375],\n",
       " [0.71875, 0.90625],\n",
       " [0.71875, 0.96875],\n",
       " [0.78125, 0.03125],\n",
       " [0.78125, 0.09375],\n",
       " [0.781158507156, 0.156004084592],\n",
       " [0.78125, 0.21875],\n",
       " [0.78125, 0.28125],\n",
       " [0.78125, 0.34375],\n",
       " [0.78125, 0.40625],\n",
       " [0.78125, 0.46875],\n",
       " [0.78125, 0.53125],\n",
       " [0.78125, 0.59375],\n",
       " [0.78125, 0.65625],\n",
       " [0.78125, 0.71875],\n",
       " [0.78125, 0.78125],\n",
       " [0.78125, 0.84375],\n",
       " [0.78125, 0.90625],\n",
       " [0.78125, 0.96875],\n",
       " [0.84375, 0.03125],\n",
       " [0.84375, 0.09375],\n",
       " [0.84375, 0.15625],\n",
       " [0.84375, 0.21875],\n",
       " [0.84375, 0.28125],\n",
       " [0.84375, 0.34375],\n",
       " [0.84375, 0.40625],\n",
       " [0.84375, 0.46875],\n",
       " [0.84375, 0.53125],\n",
       " [0.84375, 0.59375],\n",
       " [0.84375, 0.65625],\n",
       " [0.84375, 0.71875],\n",
       " [0.84375, 0.78125],\n",
       " [0.84375, 0.84375],\n",
       " [0.84375, 0.90625],\n",
       " [0.84375, 0.96875],\n",
       " [0.90625, 0.03125],\n",
       " [0.90625, 0.09375],\n",
       " [0.90625, 0.15625],\n",
       " [0.90625, 0.21875],\n",
       " [0.90625, 0.28125],\n",
       " [0.90625, 0.34375],\n",
       " [0.90625, 0.40625],\n",
       " [0.90625, 0.46875],\n",
       " [0.90625, 0.53125],\n",
       " [0.90625, 0.59375],\n",
       " [0.90625, 0.65625],\n",
       " [0.90625, 0.71875],\n",
       " [0.90625, 0.78125],\n",
       " [0.90625, 0.84375],\n",
       " [0.90625, 0.90625],\n",
       " [0.90625, 0.96875],\n",
       " [0.96875, 0.03125],\n",
       " [0.96875, 0.09375],\n",
       " [0.96875, 0.15625],\n",
       " [0.96875, 0.21875],\n",
       " [0.96875, 0.28125],\n",
       " [0.96875, 0.34375],\n",
       " [0.96875, 0.40625],\n",
       " [0.96875, 0.46875],\n",
       " [0.96875, 0.53125],\n",
       " [0.96875, 0.59375],\n",
       " [0.96875, 0.65625],\n",
       " [0.96875, 0.71875],\n",
       " [0.96875, 0.78125],\n",
       " [0.96875, 0.84375],\n",
       " [0.96875, 0.90625],\n",
       " [0.96875, 0.96875]]"
      ]
     },
     "execution_count": 14,
     "metadata": {},
     "output_type": "execute_result"
    }
   ],
   "source": [
    "[[0.03125, 0.03125], [0.03125, 0.09375], [0.03125, 0.15625], [0.03125, 0.21875], [0.03125, 0.28125], [0.03125, 0.34375], [0.03125, 0.40625], [0.03125, 0.46875], [0.03125, 0.53125], [0.03125, 0.59375], [0.03125, 0.65625], [0.0299777795014, 0.719978518477], [0.03125, 0.78125], [0.03125, 0.84375], [0.03125, 0.90625], [0.03125, 0.96875], [0.09375, 0.03125], [0.09375, 0.09375], [0.09375, 0.15625], [0.09375, 0.21875], [0.09375, 0.28125], [0.09375, 0.34375], [0.09375, 0.40625], [0.09375, 0.46875], [0.09375, 0.53125], [0.09375, 0.59375], [0.09375, 0.65625], [0.09375, 0.71875], [0.09375, 0.78125], [0.09375, 0.84375], [0.09375, 0.90625], [0.09375, 0.96875], [0.15625, 0.03125], [0.15625, 0.09375], [0.15625, 0.15625], [0.15625, 0.21875], [0.15625, 0.28125], [0.15625, 0.34375], [0.15625, 0.40625], [0.15625, 0.46875], [0.15625, 0.53125], [0.15625, 0.59375], [0.15625, 0.65625], [0.15625, 0.71875], [0.15625, 0.78125], [0.15625, 0.84375], [0.15625, 0.90625], [0.15625, 0.96875], [0.21875, 0.03125], [0.21875, 0.09375], [0.21875, 0.15625], [0.21875, 0.21875], [0.21875, 0.28125], [0.21875, 0.34375], [0.21875, 0.40625], [0.21875, 0.46875], [0.21875, 0.53125], [0.21875, 0.59375], [0.21875, 0.65625], [0.21875, 0.71875], [0.21875, 0.78125], [0.21875, 0.84375], [0.21875, 0.90625], [0.21875, 0.96875], [0.28125, 0.03125], [0.28125, 0.09375], [0.28125, 0.15625], [0.28125, 0.21875], [0.28125, 0.28125], [0.28125, 0.34375], [0.28125, 0.40625], [0.28125, 0.46875], [0.28125, 0.53125], [0.28125, 0.59375], [0.28125, 0.65625], [0.28125, 0.71875], [0.28125, 0.78125], [0.28125, 0.84375], [0.28125, 0.90625], [0.28125, 0.96875], [0.34375, 0.03125], [0.34375, 0.09375], [0.34375, 0.15625], [0.34375, 0.21875], [0.34375, 0.28125], [0.34375, 0.34375], [0.345646315532, 0.405711503357], [0.34375, 0.46875], [0.342402230409, 0.532330873808], [0.34375, 0.59375], [0.34375, 0.65625], [0.34375, 0.71875], [0.34375, 0.78125], [0.34375, 0.84375], [0.34375, 0.90625], [0.34375, 0.96875], [0.40625, 0.03125], [0.40625, 0.09375], [0.40625, 0.15625], [0.40625, 0.21875], [0.40625, 0.28125], [0.40625, 0.34375], [0.40625, 0.40625], [0.40625, 0.46875], [0.40625, 0.53125], [0.40625, 0.59375], [0.40625, 0.65625], [0.40625, 0.71875], [0.40625, 0.78125], [0.40625, 0.84375], [0.40625, 0.90625], [0.40625, 0.96875], [0.468793815715, 0.0296391426991], [0.46875, 0.09375], [0.46875, 0.15625], [0.46875, 0.21875], [0.46875, 0.28125], [0.46875, 0.34375], [0.46875, 0.40625], [0.46875, 0.46875], [0.46875, 0.53125], [0.46875, 0.59375], [0.46875, 0.65625], [0.46875, 0.71875], [0.46875, 0.78125], [0.46875, 0.84375], [0.46875, 0.90625], [0.46875, 0.96875], [0.53125, 0.03125], [0.53125, 0.09375], [0.53125, 0.15625], [0.53125, 0.21875], [0.53125, 0.28125], [0.53125, 0.34375], [0.53125, 0.40625], [0.53125, 0.46875], [0.53125, 0.53125], [0.53125, 0.59375], [0.53125, 0.65625], [0.53125, 0.71875], [0.53125, 0.78125], [0.53125, 0.84375], [0.53125, 0.90625], [0.53125, 0.96875], [0.59375, 0.03125], [0.59375, 0.09375], [0.59375, 0.15625], [0.59375, 0.21875], [0.59375, 0.28125], [0.59375, 0.34375], [0.59375, 0.40625], [0.59375, 0.46875], [0.59375, 0.53125], [0.59375, 0.59375], [0.59375, 0.65625], [0.59375, 0.71875], [0.59375, 0.78125], [0.59375, 0.84375], [0.59375, 0.90625], [0.59375, 0.96875], [0.65625, 0.03125], [0.65625, 0.09375], [0.65625, 0.15625], [0.65625, 0.21875], [0.65625, 0.28125], [0.65625, 0.34375], [0.65625, 0.40625], [0.65625, 0.46875], [0.65625, 0.53125], [0.65625, 0.59375], [0.65625, 0.65625], [0.65625, 0.71875], [0.65625, 0.78125], [0.65625, 0.84375], [0.655411503233, 0.906663635639], [0.65625, 0.96875], [0.71875, 0.03125], [0.71875, 0.09375], [0.71875, 0.15625], [0.71875, 0.21875], [0.71875, 0.28125], [0.71875, 0.34375], [0.71875, 0.40625], [0.71875, 0.46875], [0.71875, 0.53125], [0.71875, 0.59375], [0.71875, 0.65625], [0.71875, 0.71875], [0.71875, 0.78125], [0.71875, 0.84375], [0.71875, 0.90625], [0.71875, 0.96875], [0.78125, 0.03125], [0.78125, 0.09375], [0.781158507156, 0.156004084592], [0.78125, 0.21875], [0.78125, 0.28125], [0.78125, 0.34375], [0.78125, 0.40625], [0.78125, 0.46875], [0.78125, 0.53125], [0.78125, 0.59375], [0.78125, 0.65625], [0.78125, 0.71875], [0.78125, 0.78125], [0.78125, 0.84375], [0.78125, 0.90625], [0.78125, 0.96875], [0.84375, 0.03125], [0.84375, 0.09375], [0.84375, 0.15625], [0.84375, 0.21875], [0.84375, 0.28125], [0.84375, 0.34375], [0.84375, 0.40625], [0.84375, 0.46875], [0.84375, 0.53125], [0.84375, 0.59375], [0.84375, 0.65625], [0.84375, 0.71875], [0.84375, 0.78125], [0.84375, 0.84375], [0.84375, 0.90625], [0.84375, 0.96875], [0.90625, 0.03125], [0.90625, 0.09375], [0.90625, 0.15625], [0.90625, 0.21875], [0.90625, 0.28125], [0.90625, 0.34375], [0.90625, 0.40625], [0.90625, 0.46875], [0.90625, 0.53125], [0.90625, 0.59375], [0.90625, 0.65625], [0.90625, 0.71875], [0.90625, 0.78125], [0.90625, 0.84375], [0.90625, 0.90625], [0.90625, 0.96875], [0.96875, 0.03125], [0.96875, 0.09375], [0.96875, 0.15625], [0.96875, 0.21875], [0.96875, 0.28125], [0.96875, 0.34375], [0.96875, 0.40625], [0.96875, 0.46875], [0.96875, 0.53125], [0.96875, 0.59375], [0.96875, 0.65625], [0.96875, 0.71875], [0.96875, 0.78125], [0.96875, 0.84375], [0.96875, 0.90625], [0.96875, 0.96875]]\n"
   ]
  },
  {
   "cell_type": "markdown",
   "metadata": {},
   "source": []
  },
  {
   "cell_type": "markdown",
   "metadata": {},
   "source": [
    "## Seccion C1"
   ]
  }
 ],
 "metadata": {
  "kernelspec": {
   "display_name": "Python 2",
   "language": "python",
   "name": "python2"
  },
  "language_info": {
   "codemirror_mode": {
    "name": "ipython",
    "version": 2
   },
   "file_extension": ".py",
   "mimetype": "text/x-python",
   "name": "python",
   "nbconvert_exporter": "python",
   "pygments_lexer": "ipython2",
   "version": "2.7.13"
  }
 },
 "nbformat": 4,
 "nbformat_minor": 2
}

{
 "cells": [
  {
   "cell_type": "markdown",
   "metadata": {},
   "source": [
    "# Tarea 4"
   ]
  },
  {
   "cell_type": "markdown",
   "metadata": {},
   "source": [
    "## Sección A1"
   ]
  },
  {
   "cell_type": "markdown",
   "metadata": {},
   "source": [
    "**Pregunta 1: Explique por qué un segmento de recta de [−1, 1] representa a una esfera unidimensional y por qué un cuadrado de -1 a 1 en x y de -1 a 1 en y es un cilindro unitario en dos dimensiones (en dos oraciones).**"
   ]
  },
  {
   "cell_type": "markdown",
   "metadata": {},
   "source": [
    "Sabemos que para una esfera de radio = 1, $V(d) = \\frac{pi}{d/2}V(d-2)$, entonces para una *esfera* unidimensional(d=1) tenemos que **V(1) = 2**, que se puede leer como el volumen de la esfera unidimensional(longuitud de la recta). El volumen del cilindro de dimension d-1 es el doble del volumen de una esfera en dimension d, por lo tanto para el *cilindro* **V(2) = 4** (cuadrado de -1 a 1 en x & y)"
   ]
  },
  {
   "cell_type": "markdown",
   "metadata": {},
   "source": [
    "**Pregunta 2: Confirme y explique que el cilindro unitario en dos dimensiones tiene el doble del volumen de la esfera unitaria\n",
    "en una dimensión (en dos oraciones).**"
   ]
  },
  {
   "cell_type": "markdown",
   "metadata": {},
   "source": [
    "Esto se puede explicar sabiendo que el cilindo de 2 dimensiones es formado por una esfera unitaria de dimension 1 (V = 2) y un segmento de linea sobre un eje de longitud 2, por lo tanto el cilindro de 2 dimensiones tiene V = 4."
   ]
  },
  {
   "cell_type": "markdown",
   "metadata": {},
   "source": [
    "**Pregunta 3: Explique (demuestre) las siguientes relaciones:**"
   ]
  },
  {
   "cell_type": "markdown",
   "metadata": {},
   "source": [
    "* $Vcyl(2) = 2Vsph(1)$\n",
    "* $Vcyl(3) = 2Vsph(2)$"
   ]
  },
  {
   "cell_type": "markdown",
   "metadata": {},
   "source": [
    "Como sabemos que que las relaciones anteriores son ciertas para dimensiones arbitrarias entonces se puede segui que:"
   ]
  },
  {
   "cell_type": "markdown",
   "metadata": {},
   "source": [
    "* $Vcyl(4) = 2Vsph(3)$\n",
    "* $Vcyl(5) = 2Vsph(4)$\n",
    "* .\n",
    "* .\n",
    "* .\n",
    "* $Vcyl(d) = 2Vsph(d-1)$\n",
    "* $Vcyl(d+1) = 2Vsph(d)$"
   ]
  },
  {
   "cell_type": "markdown",
   "metadata": {},
   "source": [
    "**Pregunta 4: En la expresión anterior Q(d) es igual al doble del volumen de la esfera en d dimensiones dividida por el volumen\n",
    "del cilindro en d dimensiones. Pruebe que Q(d) es igual a la razón del volumen de la esfera en d dimensiones\n",
    "entre el volumen de la esfera en (d − 1) dimensiones**"
   ]
  },
  {
   "cell_type": "markdown",
   "metadata": {},
   "source": [
    "Sabemos que lo siguiente es cierto:"
   ]
  },
  {
   "cell_type": "markdown",
   "metadata": {},
   "source": [
    "$$Q(d) = 2\\frac{Vsph(d)}{Vcyl(d)}$$"
   ]
  },
  {
   "cell_type": "markdown",
   "metadata": {},
   "source": [
    "y también sabemos que:"
   ]
  },
  {
   "cell_type": "markdown",
   "metadata": {},
   "source": [
    "$$Vcyl(d) = 2Vsph(d-1)$$"
   ]
  },
  {
   "cell_type": "markdown",
   "metadata": {},
   "source": [
    "por lo tanto remplazando en la primera ecuación comprobamos que:"
   ]
  },
  {
   "cell_type": "markdown",
   "metadata": {},
   "source": [
    "$$Q(d) = \\frac{Vsph(d)}{Vsph(d-1)}$$"
   ]
  },
  {
   "cell_type": "markdown",
   "metadata": {},
   "source": [
    "## Sección A2"
   ]
  },
  {
   "cell_type": "markdown",
   "metadata": {},
   "source": [
    "**Programa a2**"
   ]
  },
  {
   "cell_type": "code",
   "execution_count": null,
   "metadata": {
    "collapsed": true
   },
   "outputs": [],
   "source": [
    "import random\n",
    "x, y = 0.0, 0.0\n",
    "delta = 1.0\n",
    "n_trials = 2**12\n",
    "n_hits = 0\n",
    "for i in range(n_trials):\n",
    "    del_x, del_y = random.uniform(-delta, delta), random.uniform(-delta, delta)\n",
    "    z = random.uniform(-1.0, 1.0)\n",
    "    if (x + del_x)**2 + (y + del_y)**2 < 1.0:\n",
    "        x, y = x + del_x, y + del_y\n",
    "    if x**2 + y**2 + z**2 < 1.0: n_hits += 1\n",
    "print 4.0 * n_hits / float(n_trials)"
   ]
  },
  {
   "cell_type": "markdown",
   "metadata": {},
   "source": [
    "Ahora vamos a calcular Q3 promedio, modificando el print de la linea 12"
   ]
  },
  {
   "cell_type": "code",
   "execution_count": 3,
   "metadata": {},
   "outputs": [
    {
     "name": "stdout",
     "output_type": "stream",
     "text": [
      "1.3359375\n"
     ]
    }
   ],
   "source": [
    "import random\n",
    "x, y = 0.0, 0.0\n",
    "delta = 1.0\n",
    "n_trials = 2**12\n",
    "n_hits = 0\n",
    "for i in range(n_trials):\n",
    "    del_x, del_y = random.uniform(-delta, delta), random.uniform(-delta, delta)\n",
    "    z = random.uniform(-1.0, 1.0)\n",
    "    if (x + del_x)**2 + (y + del_y)**2 < 1.0:\n",
    "        x, y = x + del_x, y + del_y\n",
    "    if x**2 + y**2 + z**2 < 1.0: n_hits += 1\n",
    "print 2.0 * n_hits / float(n_trials) #deberia ser aproximado a 4/3 ~ 1.3333"
   ]
  },
  {
   "cell_type": "markdown",
   "metadata": {},
   "source": [
    "## Sección A3"
   ]
  },
  {
   "cell_type": "markdown",
   "metadata": {},
   "source": [
    "Calculo promedio de Q4"
   ]
  },
  {
   "cell_type": "code",
   "execution_count": 5,
   "metadata": {},
   "outputs": [
    {
     "name": "stdout",
     "output_type": "stream",
     "text": [
      "1.17846679688\n"
     ]
    }
   ],
   "source": [
    "import random\n",
    "x, y = 0.0, 0.0\n",
    "delta = 1.0\n",
    "n_trials = 2**12\n",
    "n_hits = 0\n",
    "for i in range(n_trials):\n",
    "    del_x, del_y = random.uniform(-delta, delta), random.uniform(-delta, delta)\n",
    "    z = random.uniform(-1.0, 1.0)\n",
    "    alpha_value = random.uniform(-1.0, 1.0)\n",
    "    if (x + del_x)**2 + (y + del_y)**2 < 1.0:\n",
    "        x, y = x + del_x, y + del_y\n",
    "    if x**2 + y**2 + z**2 + alpha_value**2 < 1.0: n_hits += 1\n",
    "print 3.0 * n_hits / float(n_trials) #debe de ser cercano a 3*pi/8 ~ 1.178"
   ]
  },
  {
   "cell_type": "markdown",
   "metadata": {},
   "source": [
    "**Pregunta: Verifique que el volumen V sph (d = 4) de la esfera unitaria 4-dimensional puede ser dada por tres ecuaciones\n",
    "equivalentes:**"
   ]
  },
  {
   "cell_type": "markdown",
   "metadata": {},
   "source": [
    "* $Vsph(4) = \\frac{pi^{2}}{2}$\n",
    "* $Vsph(4) = Vsph(3)*Q4$\n",
    "* $Vsph(4) = Vsph(2)*Q3*Q4$"
   ]
  },
  {
   "cell_type": "markdown",
   "metadata": {},
   "source": [
    "**1.** La primera relación la podemos resolver desde la definicion de Vsph:"
   ]
  },
  {
   "cell_type": "markdown",
   "metadata": {},
   "source": [
    "$$Vsph(d) = \\frac{pi^{d/2}}{gamma(d/2 + 1)}$$"
   ]
  },
  {
   "cell_type": "markdown",
   "metadata": {},
   "source": [
    "Para nuestro caso $d = 4$, entonces:"
   ]
  },
  {
   "cell_type": "markdown",
   "metadata": {},
   "source": [
    "$$Vsph(4) = \\frac{pi^{2}}{gamma(3)}$$\n",
    "\n",
    "sabemos que: $$gamma(3) = 2$$\n",
    "\n",
    "entonces: $$Vsph(4) = \\frac{pi^{2}}{2} $$"
   ]
  },
  {
   "cell_type": "markdown",
   "metadata": {},
   "source": [
    "**2.**"
   ]
  },
  {
   "cell_type": "markdown",
   "metadata": {},
   "source": [
    "$$Vsph(4) = Vsph(3)*Q4 = Vsph(3)*\\frac{Vsph(4)}{Vsph(3)} = Vsph(4)$$"
   ]
  },
  {
   "cell_type": "markdown",
   "metadata": {},
   "source": [
    "**3.**"
   ]
  },
  {
   "cell_type": "markdown",
   "metadata": {},
   "source": [
    "$$Vsph(4) = Vsph(2)*Q3*Q4 = Vsph(2)*\\frac{Vsph(3)}{Vsph(2)}*\\frac{Vsph(4)}{Vsph(3)} = Vsph(4)$$"
   ]
  },
  {
   "cell_type": "markdown",
   "metadata": {},
   "source": [
    "## Sección B1"
   ]
  },
  {
   "cell_type": "markdown",
   "metadata": {},
   "source": [
    "Generalice el programa markov_pi.py para implementar un algoritmo eficiente de Monte Carlo para hacer un\n",
    "muestreo de puntos uniformemente distribuidos dentro de una esfera unitaria d-dimensional."
   ]
  },
  {
   "cell_type": "code",
   "execution_count": 33,
   "metadata": {},
   "outputs": [
    {
     "name": "stdout",
     "output_type": "stream",
     "text": [
      "3.1474609375\n"
     ]
    }
   ],
   "source": [
    "import random\n",
    "import pylab\n",
    "import numpy as np\n",
    "d = 2\n",
    "x = [0]*d\n",
    "delta = 1.0\n",
    "n_trials = 2**12\n",
    "n_hits = 0\n",
    "x_sum_square = 0\n",
    "new_radius_square = 0.0\n",
    "\n",
    "for i in range(n_trials):\n",
    "\tk = random.randint(0, d-1)\n",
    "\tx_new_k = x[k] + random.uniform(-delta, delta)\n",
    "\tif abs(x_new_k) < 1.0:\n",
    "\t\tnew_radius_square = new_radius_square - x[k]**2 + x_new_k**2\n",
    "\t\tx[k] = x_new_k\n",
    "\tif new_radius_square < 1.0 : \n",
    "\t\tn_hits += 1\n",
    "print (n_hits / float(n_trials))*(2.0)**d #calcula pi"
   ]
  },
  {
   "cell_type": "markdown",
   "metadata": {},
   "source": [
    "El codigo de arriba funciona para cualquier dimensión."
   ]
  },
  {
   "cell_type": "markdown",
   "metadata": {},
   "source": [
    "* Histograma para $d=4$"
   ]
  },
  {
   "cell_type": "code",
   "execution_count": 36,
   "metadata": {
    "scrolled": true
   },
   "outputs": [
    {
     "name": "stdout",
     "output_type": "stream",
     "text": [
      "5.08984375\n",
      "[0.50980049863829646]\n",
      "[0.50980049863829646, 0.15193735132293007]\n",
      "[0.50980049863829646, 0.15193735132293007, 0.85515622165566496]\n",
      "[0.50980049863829646, 0.15193735132293007, 0.85515622165566496, 0.91180920850089042]\n"
     ]
    },
    {
     "data": {
      "image/png": "[encoded data removed]",
      "text/plain": [
       "<matplotlib.figure.Figure at 0x7f2679491290>"
      ]
     },
     "metadata": {},
     "output_type": "display_data"
    }
   ],
   "source": [
    "import random\n",
    "import pylab\n",
    "import numpy as np\n",
    "d = 4\n",
    "x = [0]*d\n",
    "delta = 1.0\n",
    "n_trials = 2**12\n",
    "n_hits = 0\n",
    "x_sum_square = 0\n",
    "new_radius_square = 0.0\n",
    "\n",
    "for i in range(n_trials):\n",
    "\tk = random.randint(0, d-1)\n",
    "\tx_new_k = x[k] + random.uniform(-delta, delta)\n",
    "\tif abs(x_new_k) < 1.0:\n",
    "\t\tnew_radius_square = new_radius_square - x[k]**2 + x_new_k**2\n",
    "\t\tx[k] = x_new_k\n",
    "\tif new_radius_square < 1.0 : \n",
    "\t\tn_hits += 1\n",
    "print (n_hits / float(n_trials))*(2.0)**d\n",
    "\n",
    "r = []\n",
    "for i in x:\n",
    "\tx_sum_square = i**2\n",
    "\tr.append(np.sqrt(x_sum_square))\n",
    "\tprint r\n",
    "\n",
    "pylab.hist(r, normed = True)\n",
    "pylab.title(\"Histograma de r con d = 4\")\n",
    "pylab.show()"
   ]
  },
  {
   "cell_type": "markdown",
   "metadata": {},
   "source": [
    "* Gráfica anlítica de $4x^{3}$ con $0< x <1$"
   ]
  },
  {
   "cell_type": "markdown",
   "metadata": {},
   "source": [
    "![title](plot4.png)"
   ]
  },
  {
   "cell_type": "markdown",
   "metadata": {},
   "source": [
    "* Histograma para $d=20$"
   ]
  },
  {
   "cell_type": "code",
   "execution_count": 37,
   "metadata": {},
   "outputs": [
    {
     "name": "stdout",
     "output_type": "stream",
     "text": [
      "1280.0\n"
     ]
    },
    {
     "data": {
      "image/png": "[encoded data removed]",
      "text/plain": [
       "<matplotlib.figure.Figure at 0x7f2680e03310>"
      ]
     },
     "metadata": {},
     "output_type": "display_data"
    }
   ],
   "source": [
    "import random\n",
    "import pylab\n",
    "import random\n",
    "import pylab\n",
    "import numpy as np\n",
    "d = 20\n",
    "x = [0]*d\n",
    "delta = 1.0\n",
    "n_trials = 2**12\n",
    "n_hits = 0\n",
    "x_sum_square = 0\n",
    "new_radius_square = 0.0\n",
    "\n",
    "for i in range(n_trials):\n",
    "\tk = random.randint(0, d-1)\n",
    "\tx_new_k = x[k] + random.uniform(-delta, delta)\n",
    "\tif abs(x_new_k) < 1.0:\n",
    "\t\tnew_radius_square = new_radius_square - x[k]**2 + x_new_k**2\n",
    "\t\tx[k] = x_new_k\n",
    "\tif new_radius_square < 1.0 : \n",
    "\t\tn_hits += 1\n",
    "print (n_hits / float(n_trials))*(2.0)**d\n",
    "\n",
    "r = []\n",
    "for i in x:\n",
    "\tx_sum_square = i**2\n",
    "\tr.append(np.sqrt(x_sum_square))\n",
    "\t#print r\n",
    "\n",
    "pylab.hist(r,normed = True)\n",
    "pylab.title(\"Histograma de r con d = 20\")\n",
    "pylab.show()"
   ]
  },
  {
   "cell_type": "markdown",
   "metadata": {},
   "source": [
    "* Gráfica anlítica de $20x^{19}$ con $0< x <1$"
   ]
  },
  {
   "cell_type": "markdown",
   "metadata": {},
   "source": [
    "![title](plot20.png)"
   ]
  },
  {
   "cell_type": "markdown",
   "metadata": {},
   "source": [
    "## Sección B2"
   ]
  },
  {
   "cell_type": "code",
   "execution_count": 31,
   "metadata": {},
   "outputs": [
    {
     "name": "stdout",
     "output_type": "stream",
     "text": [
      "Valor Q4 = 1.18547986077\n",
      "Valor Q200 = 0.666666666667\n"
     ]
    }
   ],
   "source": [
    "import random\n",
    "import pylab\n",
    "import numpy as np\n",
    "\n",
    "d = 4\n",
    "delta = 1.0\n",
    "n_trials = 2**12\n",
    "\n",
    "def vol_sph(d, n_trials, delta):\n",
    "\tx = [0]*d\n",
    "\tn_hits = 0\n",
    "\tnew_radius_square = 0.0\n",
    "\tfor i in range(n_trials):\n",
    "\t\tk = random.randint(0, d-1)\n",
    "\t\tx_new_k = x[k] + random.uniform(-delta, delta)\n",
    "\t\tif abs(x_new_k) < 1.0:\n",
    "\t\t\tnew_radius_square = new_radius_square - x[k]**2 + x_new_k**2\n",
    "\t\t\tx[k] = x_new_k\n",
    "\t\tif new_radius_square < 1.0 : \n",
    "\t\t\tn_hits += 1\n",
    "\treturn n_hits / float(n_trials)*2.0**d\n",
    "\n",
    "q4 = vol_sph(4, n_trials, delta)/vol_sph(3, n_trials, delta)\n",
    "print \"Valor Q4 = \" + str(q4)\n",
    "\n",
    "q200 = vol_sph(200, n_trials, delta)/vol_sph(199, n_trials, delta)\n",
    "print \"Valor Q200 = \" + str(q200)"
   ]
  },
  {
   "cell_type": "markdown",
   "metadata": {},
   "source": [
    "De forma analitica lo acalculamos de la siguiente manera"
   ]
  },
  {
   "cell_type": "code",
   "execution_count": 18,
   "metadata": {},
   "outputs": [
    {
     "name": "stdout",
     "output_type": "stream",
     "text": [
      "Valor analitico Q4 = 1.1780972451\n",
      "Valor analitico Q200 = 0.177023967696\n"
     ]
    }
   ],
   "source": [
    "import math\n",
    "\n",
    "def V_sph(dim):\n",
    "    return math.pi ** (dim / 2.0) / math.gamma(dim / 2.0 + 1.0)\n",
    "\n",
    "print \"Valor analitico Q4 = \" + str(V_sph(4)/V_sph(3))\n",
    "print \"Valor analitico Q200 = \" + str(V_sph(200)/V_sph(199))"
   ]
  },
  {
   "cell_type": "markdown",
   "metadata": {},
   "source": [
    "Nuestro programa se aproxima bastante bien al valor analitico de $Q4$, pero falla bastante para $Q200$"
   ]
  },
  {
   "cell_type": "markdown",
   "metadata": {},
   "source": [
    "**Pregunta:** Dé su resultado para V sph (4)/V sph (3) lo más preciso posible. Compárelo con el resultado obtenido en la sección\n",
    "A3."
   ]
  },
  {
   "cell_type": "markdown",
   "metadata": {},
   "source": [
    "El resultado más preciso de $\\frac{Vsph(4)}{Vsph(3)}$ = 1.18547986077  que difiere un poco con el obtenido en A3, 1.17846679688, el cual se aproxima mejor al valor analítico"
   ]
  },
  {
   "cell_type": "markdown",
   "metadata": {},
   "source": [
    "**Pregunta:** Dé su resultado de V sph (200)/V sph (199)"
   ]
  },
  {
   "cell_type": "markdown",
   "metadata": {},
   "source": [
    "Valor Q200 = 0.666666666667 resulta no se tan buena aproximación ya que el valor analítico es 0.177023967696"
   ]
  },
  {
   "cell_type": "markdown",
   "metadata": {},
   "source": [
    "## Sección C1"
   ]
  },
  {
   "cell_type": "markdown",
   "metadata": {},
   "source": [
    "**Pregunta:** Use los valores que calculó iterativamente de Q(d + 1) para evaluar V sph (4) una vez más (empiece desde el valor\n",
    "V sph = 2). Escriba su resultado y compárelo con $pi^{2}/2$"
   ]
  },
  {
   "cell_type": "markdown",
   "metadata": {},
   "source": [
    "El resultado encontrado es 4.81077034945, el cual es bastante aproximado al valor real $pi^{2}/2$ ~ 4.9348022"
   ]
  },
  {
   "cell_type": "code",
   "execution_count": null,
   "metadata": {
    "collapsed": true
   },
   "outputs": [],
   "source": [
    "import random\n",
    "import pylab\n",
    "import numpy as np\n",
    "\n",
    "dimension = 200\n",
    "delta = 1.0\n",
    "n_trials = 2**12\n",
    "\n",
    "def vol_sph(d, n_trials, delta):\n",
    "\tx = [0]*d\n",
    "\tn_hits = 0\n",
    "\tnew_radius_square = 0.0\n",
    "\tfor i in range(n_trials):\n",
    "\t\tk = random.randint(0, d-1)\n",
    "\t\tx_new_k = x[k] + random.uniform(-delta, delta)\n",
    "\t\tif abs(x_new_k) < 1.0:\n",
    "\t\t\tnew_radius_square = new_radius_square - x[k]**2 + x_new_k**2\n",
    "\t\t\tx[k] = x_new_k\n",
    "\t\tif new_radius_square < 1.0 : \n",
    "\t\t\tn_hits += 1\n",
    "\treturn n_hits / float(n_trials)*2.0**d\n",
    "\n",
    "def calc_vol_sph(d, n_trials, delta):\n",
    "\tq = 1\n",
    "\tfor i in range(1, d):\n",
    "\t\tq *= vol_sph(i+1, n_trials, delta)/vol_sph(i, n_trials, delta)\n",
    "\treturn 2*q\n",
    "\n",
    "# v_sph = calc_vol_sph(dimension, n_trials, delta)\n",
    "# print v_sph\n",
    "\n",
    "vec = []\n",
    "for j in range(1, dimension+1):\n",
    "\tvec.append(calc_vol_sph(j, n_trials, delta))\n",
    "pylab.plot(vec)\n",
    "pylab.yscale(\"log\")\n",
    "pylab.title(\"Volumen de esfera unitaria en funcion de la dimension\")\n",
    "pylab.xlabel(\"dimension (d)\")\n",
    "pylab.ylabel(\"log(volumen)\")\n",
    "pylab.show()"
   ]
  },
  {
   "cell_type": "markdown",
   "metadata": {},
   "source": [
    "Resultado de Vsph(200) = 7.39157293101e+52"
   ]
  },
  {
   "cell_type": "markdown",
   "metadata": {},
   "source": [
    "Grafica para d = 200, vemos que al inicio parece comportarse bien pero mientras empieza a incrementar d se distirciona."
   ]
  },
  {
   "cell_type": "markdown",
   "metadata": {},
   "source": [
    "![title](figure_1.png)"
   ]
  },
  {
   "cell_type": "markdown",
   "metadata": {},
   "source": [
    "Grafico con d = 50"
   ]
  },
  {
   "cell_type": "markdown",
   "metadata": {},
   "source": [
    "![title](figure_2.png)"
   ]
  },
  {
   "cell_type": "markdown",
   "metadata": {},
   "source": [
    "Grafica analítica"
   ]
  },
  {
   "cell_type": "markdown",
   "metadata": {},
   "source": [
    "![title](figure_3.png)"
   ]
  },
  {
   "cell_type": "markdown",
   "metadata": {},
   "source": [
    "## Sección C2"
   ]
  }
 ],
 "metadata": {
  "kernelspec": {
   "display_name": "Python 2",
   "language": "python",
   "name": "python2"
  },
  "language_info": {
   "codemirror_mode": {
    "name": "ipython",
    "version": 2
   },
   "file_extension": ".py",
   "mimetype": "text/x-python",
   "name": "python",
   "nbconvert_exporter": "python",
   "pygments_lexer": "ipython2",
   "version": "2.7.13"
  }
 },
 "nbformat": 4,
 "nbformat_minor": 2
}
